{
 "cells": [
  {
   "cell_type": "code",
   "execution_count": 133,
   "metadata": {},
   "outputs": [],
   "source": [
    "#importing libarries\n",
    "import pandas as pd\n",
    "import numpy as np\n",
    "import matplotlib.pyplot as plt\n",
    "import seaborn as sns\n",
    "%matplotlib inline\n"
   ]
  },
  {
   "cell_type": "code",
   "execution_count": 134,
   "metadata": {},
   "outputs": [
    {
     "data": {
      "text/plain": [
       "(205, 26)"
      ]
     },
     "execution_count": 134,
     "metadata": {},
     "output_type": "execute_result"
    }
   ],
   "source": [
    "#Read the input file and shape of the data\n",
    "auto = pd.read_csv('Automobile_data.txt')\n",
    "auto.shape"
   ]
  },
  {
   "cell_type": "code",
   "execution_count": 135,
   "metadata": {},
   "outputs": [
    {
     "data": {
      "text/html": [
       "<div>\n",
       "<style scoped>\n",
       "    .dataframe tbody tr th:only-of-type {\n",
       "        vertical-align: middle;\n",
       "    }\n",
       "\n",
       "    .dataframe tbody tr th {\n",
       "        vertical-align: top;\n",
       "    }\n",
       "\n",
       "    .dataframe thead th {\n",
       "        text-align: right;\n",
       "    }\n",
       "</style>\n",
       "<table border=\"1\" class=\"dataframe\">\n",
       "  <thead>\n",
       "    <tr style=\"text-align: right;\">\n",
       "      <th></th>\n",
       "      <th>symboling</th>\n",
       "      <th>normalized-losses</th>\n",
       "      <th>make</th>\n",
       "      <th>fuel-type</th>\n",
       "      <th>aspiration</th>\n",
       "      <th>num-of-doors</th>\n",
       "      <th>body-style</th>\n",
       "      <th>drive-wheels</th>\n",
       "      <th>engine-location</th>\n",
       "      <th>wheel-base</th>\n",
       "      <th>...</th>\n",
       "      <th>engine-size</th>\n",
       "      <th>fuel-system</th>\n",
       "      <th>bore</th>\n",
       "      <th>stroke</th>\n",
       "      <th>compression-ratio</th>\n",
       "      <th>horsepower</th>\n",
       "      <th>peak-rpm</th>\n",
       "      <th>city-mpg</th>\n",
       "      <th>highway-mpg</th>\n",
       "      <th>price</th>\n",
       "    </tr>\n",
       "  </thead>\n",
       "  <tbody>\n",
       "    <tr>\n",
       "      <th>0</th>\n",
       "      <td>3</td>\n",
       "      <td>?</td>\n",
       "      <td>alfa-romero</td>\n",
       "      <td>gas</td>\n",
       "      <td>std</td>\n",
       "      <td>two</td>\n",
       "      <td>convertible</td>\n",
       "      <td>rwd</td>\n",
       "      <td>front</td>\n",
       "      <td>88.6</td>\n",
       "      <td>...</td>\n",
       "      <td>130</td>\n",
       "      <td>mpfi</td>\n",
       "      <td>3.47</td>\n",
       "      <td>2.68</td>\n",
       "      <td>9.0</td>\n",
       "      <td>111</td>\n",
       "      <td>5000</td>\n",
       "      <td>21</td>\n",
       "      <td>27</td>\n",
       "      <td>13495</td>\n",
       "    </tr>\n",
       "    <tr>\n",
       "      <th>1</th>\n",
       "      <td>3</td>\n",
       "      <td>?</td>\n",
       "      <td>alfa-romero</td>\n",
       "      <td>gas</td>\n",
       "      <td>std</td>\n",
       "      <td>two</td>\n",
       "      <td>convertible</td>\n",
       "      <td>rwd</td>\n",
       "      <td>front</td>\n",
       "      <td>88.6</td>\n",
       "      <td>...</td>\n",
       "      <td>130</td>\n",
       "      <td>mpfi</td>\n",
       "      <td>3.47</td>\n",
       "      <td>2.68</td>\n",
       "      <td>9.0</td>\n",
       "      <td>111</td>\n",
       "      <td>5000</td>\n",
       "      <td>21</td>\n",
       "      <td>27</td>\n",
       "      <td>16500</td>\n",
       "    </tr>\n",
       "    <tr>\n",
       "      <th>2</th>\n",
       "      <td>1</td>\n",
       "      <td>?</td>\n",
       "      <td>alfa-romero</td>\n",
       "      <td>gas</td>\n",
       "      <td>std</td>\n",
       "      <td>two</td>\n",
       "      <td>hatchback</td>\n",
       "      <td>rwd</td>\n",
       "      <td>front</td>\n",
       "      <td>94.5</td>\n",
       "      <td>...</td>\n",
       "      <td>152</td>\n",
       "      <td>mpfi</td>\n",
       "      <td>2.68</td>\n",
       "      <td>3.47</td>\n",
       "      <td>9.0</td>\n",
       "      <td>154</td>\n",
       "      <td>5000</td>\n",
       "      <td>19</td>\n",
       "      <td>26</td>\n",
       "      <td>16500</td>\n",
       "    </tr>\n",
       "    <tr>\n",
       "      <th>3</th>\n",
       "      <td>2</td>\n",
       "      <td>164</td>\n",
       "      <td>audi</td>\n",
       "      <td>gas</td>\n",
       "      <td>std</td>\n",
       "      <td>four</td>\n",
       "      <td>sedan</td>\n",
       "      <td>fwd</td>\n",
       "      <td>front</td>\n",
       "      <td>99.8</td>\n",
       "      <td>...</td>\n",
       "      <td>109</td>\n",
       "      <td>mpfi</td>\n",
       "      <td>3.19</td>\n",
       "      <td>3.40</td>\n",
       "      <td>10.0</td>\n",
       "      <td>102</td>\n",
       "      <td>5500</td>\n",
       "      <td>24</td>\n",
       "      <td>30</td>\n",
       "      <td>13950</td>\n",
       "    </tr>\n",
       "    <tr>\n",
       "      <th>4</th>\n",
       "      <td>2</td>\n",
       "      <td>164</td>\n",
       "      <td>audi</td>\n",
       "      <td>gas</td>\n",
       "      <td>std</td>\n",
       "      <td>four</td>\n",
       "      <td>sedan</td>\n",
       "      <td>4wd</td>\n",
       "      <td>front</td>\n",
       "      <td>99.4</td>\n",
       "      <td>...</td>\n",
       "      <td>136</td>\n",
       "      <td>mpfi</td>\n",
       "      <td>3.19</td>\n",
       "      <td>3.40</td>\n",
       "      <td>8.0</td>\n",
       "      <td>115</td>\n",
       "      <td>5500</td>\n",
       "      <td>18</td>\n",
       "      <td>22</td>\n",
       "      <td>17450</td>\n",
       "    </tr>\n",
       "  </tbody>\n",
       "</table>\n",
       "<p>5 rows × 26 columns</p>\n",
       "</div>"
      ],
      "text/plain": [
       "   symboling normalized-losses         make fuel-type aspiration num-of-doors  \\\n",
       "0          3                 ?  alfa-romero       gas        std          two   \n",
       "1          3                 ?  alfa-romero       gas        std          two   \n",
       "2          1                 ?  alfa-romero       gas        std          two   \n",
       "3          2               164         audi       gas        std         four   \n",
       "4          2               164         audi       gas        std         four   \n",
       "\n",
       "    body-style drive-wheels engine-location  wheel-base  ...  engine-size  \\\n",
       "0  convertible          rwd           front        88.6  ...          130   \n",
       "1  convertible          rwd           front        88.6  ...          130   \n",
       "2    hatchback          rwd           front        94.5  ...          152   \n",
       "3        sedan          fwd           front        99.8  ...          109   \n",
       "4        sedan          4wd           front        99.4  ...          136   \n",
       "\n",
       "   fuel-system  bore  stroke compression-ratio horsepower  peak-rpm city-mpg  \\\n",
       "0         mpfi  3.47    2.68               9.0        111      5000       21   \n",
       "1         mpfi  3.47    2.68               9.0        111      5000       21   \n",
       "2         mpfi  2.68    3.47               9.0        154      5000       19   \n",
       "3         mpfi  3.19    3.40              10.0        102      5500       24   \n",
       "4         mpfi  3.19    3.40               8.0        115      5500       18   \n",
       "\n",
       "  highway-mpg  price  \n",
       "0          27  13495  \n",
       "1          27  16500  \n",
       "2          26  16500  \n",
       "3          30  13950  \n",
       "4          22  17450  \n",
       "\n",
       "[5 rows x 26 columns]"
      ]
     },
     "execution_count": 135,
     "metadata": {},
     "output_type": "execute_result"
    }
   ],
   "source": [
    "#Displaying first 5 rows\n",
    "auto.head()"
   ]
  },
  {
   "cell_type": "code",
   "execution_count": 136,
   "metadata": {},
   "outputs": [
    {
     "name": "stdout",
     "output_type": "stream",
     "text": [
      "<class 'pandas.core.frame.DataFrame'>\n",
      "RangeIndex: 205 entries, 0 to 204\n",
      "Data columns (total 26 columns):\n",
      " #   Column             Non-Null Count  Dtype  \n",
      "---  ------             --------------  -----  \n",
      " 0   symboling          205 non-null    int64  \n",
      " 1   normalized-losses  205 non-null    object \n",
      " 2   make               205 non-null    object \n",
      " 3   fuel-type          205 non-null    object \n",
      " 4   aspiration         205 non-null    object \n",
      " 5   num-of-doors       205 non-null    object \n",
      " 6   body-style         205 non-null    object \n",
      " 7   drive-wheels       205 non-null    object \n",
      " 8   engine-location    205 non-null    object \n",
      " 9   wheel-base         205 non-null    float64\n",
      " 10  length             205 non-null    float64\n",
      " 11  width              205 non-null    float64\n",
      " 12  height             205 non-null    float64\n",
      " 13  curb-weight        205 non-null    int64  \n",
      " 14  engine-type        205 non-null    object \n",
      " 15  num-of-cylinders   205 non-null    object \n",
      " 16  engine-size        205 non-null    int64  \n",
      " 17  fuel-system        205 non-null    object \n",
      " 18  bore               205 non-null    object \n",
      " 19  stroke             205 non-null    object \n",
      " 20  compression-ratio  205 non-null    float64\n",
      " 21  horsepower         205 non-null    object \n",
      " 22  peak-rpm           205 non-null    object \n",
      " 23  city-mpg           205 non-null    int64  \n",
      " 24  highway-mpg        205 non-null    int64  \n",
      " 25  price              205 non-null    object \n",
      "dtypes: float64(5), int64(5), object(16)\n",
      "memory usage: 41.8+ KB\n"
     ]
    },
    {
     "data": {
      "text/plain": [
       "symboling            0\n",
       "normalized-losses    0\n",
       "make                 0\n",
       "fuel-type            0\n",
       "aspiration           0\n",
       "num-of-doors         0\n",
       "body-style           0\n",
       "drive-wheels         0\n",
       "engine-location      0\n",
       "wheel-base           0\n",
       "length               0\n",
       "width                0\n",
       "height               0\n",
       "curb-weight          0\n",
       "engine-type          0\n",
       "num-of-cylinders     0\n",
       "engine-size          0\n",
       "fuel-system          0\n",
       "bore                 0\n",
       "stroke               0\n",
       "compression-ratio    0\n",
       "horsepower           0\n",
       "peak-rpm             0\n",
       "city-mpg             0\n",
       "highway-mpg          0\n",
       "price                0\n",
       "dtype: int64"
      ]
     },
     "execution_count": 136,
     "metadata": {},
     "output_type": "execute_result"
    }
   ],
   "source": [
    "#Finding Missing values in the dataset\n",
    "auto.info()\n",
    "auto.isnull().sum()"
   ]
  },
  {
   "cell_type": "markdown",
   "metadata": {},
   "source": [
    "Findings : There is no missing values from the given dataset"
   ]
  },
  {
   "cell_type": "code",
   "execution_count": 137,
   "metadata": {},
   "outputs": [
    {
     "data": {
      "text/plain": [
       "symboling              int64\n",
       "normalized-losses     object\n",
       "make                  object\n",
       "fuel-type             object\n",
       "aspiration            object\n",
       "num-of-doors          object\n",
       "body-style            object\n",
       "drive-wheels          object\n",
       "engine-location       object\n",
       "wheel-base           float64\n",
       "length               float64\n",
       "width                float64\n",
       "height               float64\n",
       "curb-weight            int64\n",
       "engine-type           object\n",
       "num-of-cylinders      object\n",
       "engine-size            int64\n",
       "fuel-system           object\n",
       "bore                  object\n",
       "stroke                object\n",
       "compression-ratio    float64\n",
       "horsepower            object\n",
       "peak-rpm              object\n",
       "city-mpg               int64\n",
       "highway-mpg            int64\n",
       "price                 object\n",
       "dtype: object"
      ]
     },
     "execution_count": 137,
     "metadata": {},
     "output_type": "execute_result"
    }
   ],
   "source": [
    "#finding data types from the dataset\n",
    "auto.dtypes"
   ]
  },
  {
   "cell_type": "code",
   "execution_count": 138,
   "metadata": {},
   "outputs": [
    {
     "data": {
      "text/html": [
       "<div>\n",
       "<style scoped>\n",
       "    .dataframe tbody tr th:only-of-type {\n",
       "        vertical-align: middle;\n",
       "    }\n",
       "\n",
       "    .dataframe tbody tr th {\n",
       "        vertical-align: top;\n",
       "    }\n",
       "\n",
       "    .dataframe thead th {\n",
       "        text-align: right;\n",
       "    }\n",
       "</style>\n",
       "<table border=\"1\" class=\"dataframe\">\n",
       "  <thead>\n",
       "    <tr style=\"text-align: right;\">\n",
       "      <th></th>\n",
       "      <th>symboling</th>\n",
       "      <th>wheel-base</th>\n",
       "      <th>length</th>\n",
       "      <th>width</th>\n",
       "      <th>height</th>\n",
       "      <th>curb-weight</th>\n",
       "      <th>engine-size</th>\n",
       "      <th>compression-ratio</th>\n",
       "      <th>city-mpg</th>\n",
       "      <th>highway-mpg</th>\n",
       "    </tr>\n",
       "  </thead>\n",
       "  <tbody>\n",
       "    <tr>\n",
       "      <th>count</th>\n",
       "      <td>205.000000</td>\n",
       "      <td>205.000000</td>\n",
       "      <td>205.000000</td>\n",
       "      <td>205.000000</td>\n",
       "      <td>205.000000</td>\n",
       "      <td>205.000000</td>\n",
       "      <td>205.000000</td>\n",
       "      <td>205.000000</td>\n",
       "      <td>205.000000</td>\n",
       "      <td>205.000000</td>\n",
       "    </tr>\n",
       "    <tr>\n",
       "      <th>mean</th>\n",
       "      <td>0.834146</td>\n",
       "      <td>98.756585</td>\n",
       "      <td>174.049268</td>\n",
       "      <td>65.907805</td>\n",
       "      <td>53.724878</td>\n",
       "      <td>2555.565854</td>\n",
       "      <td>126.907317</td>\n",
       "      <td>10.142537</td>\n",
       "      <td>25.219512</td>\n",
       "      <td>30.751220</td>\n",
       "    </tr>\n",
       "    <tr>\n",
       "      <th>std</th>\n",
       "      <td>1.245307</td>\n",
       "      <td>6.021776</td>\n",
       "      <td>12.337289</td>\n",
       "      <td>2.145204</td>\n",
       "      <td>2.443522</td>\n",
       "      <td>520.680204</td>\n",
       "      <td>41.642693</td>\n",
       "      <td>3.972040</td>\n",
       "      <td>6.542142</td>\n",
       "      <td>6.886443</td>\n",
       "    </tr>\n",
       "    <tr>\n",
       "      <th>min</th>\n",
       "      <td>-2.000000</td>\n",
       "      <td>86.600000</td>\n",
       "      <td>141.100000</td>\n",
       "      <td>60.300000</td>\n",
       "      <td>47.800000</td>\n",
       "      <td>1488.000000</td>\n",
       "      <td>61.000000</td>\n",
       "      <td>7.000000</td>\n",
       "      <td>13.000000</td>\n",
       "      <td>16.000000</td>\n",
       "    </tr>\n",
       "    <tr>\n",
       "      <th>25%</th>\n",
       "      <td>0.000000</td>\n",
       "      <td>94.500000</td>\n",
       "      <td>166.300000</td>\n",
       "      <td>64.100000</td>\n",
       "      <td>52.000000</td>\n",
       "      <td>2145.000000</td>\n",
       "      <td>97.000000</td>\n",
       "      <td>8.600000</td>\n",
       "      <td>19.000000</td>\n",
       "      <td>25.000000</td>\n",
       "    </tr>\n",
       "    <tr>\n",
       "      <th>50%</th>\n",
       "      <td>1.000000</td>\n",
       "      <td>97.000000</td>\n",
       "      <td>173.200000</td>\n",
       "      <td>65.500000</td>\n",
       "      <td>54.100000</td>\n",
       "      <td>2414.000000</td>\n",
       "      <td>120.000000</td>\n",
       "      <td>9.000000</td>\n",
       "      <td>24.000000</td>\n",
       "      <td>30.000000</td>\n",
       "    </tr>\n",
       "    <tr>\n",
       "      <th>75%</th>\n",
       "      <td>2.000000</td>\n",
       "      <td>102.400000</td>\n",
       "      <td>183.100000</td>\n",
       "      <td>66.900000</td>\n",
       "      <td>55.500000</td>\n",
       "      <td>2935.000000</td>\n",
       "      <td>141.000000</td>\n",
       "      <td>9.400000</td>\n",
       "      <td>30.000000</td>\n",
       "      <td>34.000000</td>\n",
       "    </tr>\n",
       "    <tr>\n",
       "      <th>max</th>\n",
       "      <td>3.000000</td>\n",
       "      <td>120.900000</td>\n",
       "      <td>208.100000</td>\n",
       "      <td>72.300000</td>\n",
       "      <td>59.800000</td>\n",
       "      <td>4066.000000</td>\n",
       "      <td>326.000000</td>\n",
       "      <td>23.000000</td>\n",
       "      <td>49.000000</td>\n",
       "      <td>54.000000</td>\n",
       "    </tr>\n",
       "  </tbody>\n",
       "</table>\n",
       "</div>"
      ],
      "text/plain": [
       "        symboling  wheel-base      length       width      height  \\\n",
       "count  205.000000  205.000000  205.000000  205.000000  205.000000   \n",
       "mean     0.834146   98.756585  174.049268   65.907805   53.724878   \n",
       "std      1.245307    6.021776   12.337289    2.145204    2.443522   \n",
       "min     -2.000000   86.600000  141.100000   60.300000   47.800000   \n",
       "25%      0.000000   94.500000  166.300000   64.100000   52.000000   \n",
       "50%      1.000000   97.000000  173.200000   65.500000   54.100000   \n",
       "75%      2.000000  102.400000  183.100000   66.900000   55.500000   \n",
       "max      3.000000  120.900000  208.100000   72.300000   59.800000   \n",
       "\n",
       "       curb-weight  engine-size  compression-ratio    city-mpg  highway-mpg  \n",
       "count   205.000000   205.000000         205.000000  205.000000   205.000000  \n",
       "mean   2555.565854   126.907317          10.142537   25.219512    30.751220  \n",
       "std     520.680204    41.642693           3.972040    6.542142     6.886443  \n",
       "min    1488.000000    61.000000           7.000000   13.000000    16.000000  \n",
       "25%    2145.000000    97.000000           8.600000   19.000000    25.000000  \n",
       "50%    2414.000000   120.000000           9.000000   24.000000    30.000000  \n",
       "75%    2935.000000   141.000000           9.400000   30.000000    34.000000  \n",
       "max    4066.000000   326.000000          23.000000   49.000000    54.000000  "
      ]
     },
     "execution_count": 138,
     "metadata": {},
     "output_type": "execute_result"
    }
   ],
   "source": [
    "auto.describe()"
   ]
  },
  {
   "cell_type": "code",
   "execution_count": 139,
   "metadata": {},
   "outputs": [
    {
     "data": {
      "text/plain": [
       "41"
      ]
     },
     "execution_count": 139,
     "metadata": {},
     "output_type": "execute_result"
    }
   ],
   "source": [
    "#Cleaning of the normalized-losses data\n",
    "auto['normalized-losses'][auto['normalized-losses'] == \"?\"].count()"
   ]
  },
  {
   "cell_type": "code",
   "execution_count": 140,
   "metadata": {},
   "outputs": [
    {
     "data": {
      "text/plain": [
       "0    122\n",
       "1    122\n",
       "2    122\n",
       "3    164\n",
       "4    164\n",
       "Name: normalized-losses, dtype: int32"
      ]
     },
     "execution_count": 140,
     "metadata": {},
     "output_type": "execute_result"
    }
   ],
   "source": [
    "normalized_losses_mean =auto['normalized-losses'][auto['normalized-losses'] != \"?\"].astype(int).mean()\n",
    "auto['normalized-losses'] = auto['normalized-losses'].replace(\"?\",normalized_losses_mean).astype(int)\n",
    "auto['normalized-losses'].head()"
   ]
  },
  {
   "cell_type": "code",
   "execution_count": 141,
   "metadata": {},
   "outputs": [
    {
     "data": {
      "text/plain": [
       "4"
      ]
     },
     "execution_count": 141,
     "metadata": {},
     "output_type": "execute_result"
    }
   ],
   "source": [
    "#Cleaning of the bore data\n",
    "auto['bore'][auto['bore'] == \"?\"].count()"
   ]
  },
  {
   "cell_type": "code",
   "execution_count": 142,
   "metadata": {},
   "outputs": [
    {
     "data": {
      "text/plain": [
       "0    3.47\n",
       "1    3.47\n",
       "2    2.68\n",
       "3    3.19\n",
       "4    3.19\n",
       "Name: bore, dtype: float64"
      ]
     },
     "execution_count": 142,
     "metadata": {},
     "output_type": "execute_result"
    }
   ],
   "source": [
    "normalized_bore_mean =auto['bore'][auto['bore'] != \"?\"].astype(float).mean()\n",
    "auto['bore'] = auto['bore'].replace(\"?\",normalized_bore_mean).astype(float)\n",
    "auto['bore'].head()\n"
   ]
  },
  {
   "cell_type": "code",
   "execution_count": 143,
   "metadata": {},
   "outputs": [
    {
     "data": {
      "text/plain": [
       "4"
      ]
     },
     "execution_count": 143,
     "metadata": {},
     "output_type": "execute_result"
    }
   ],
   "source": [
    "#Cleaning of the stroke data\n",
    "auto['stroke'][auto['stroke'] == \"?\"].count()"
   ]
  },
  {
   "cell_type": "code",
   "execution_count": 144,
   "metadata": {},
   "outputs": [
    {
     "data": {
      "text/plain": [
       "0    2.68\n",
       "1    2.68\n",
       "2    3.47\n",
       "3    3.40\n",
       "4    3.40\n",
       "Name: stroke, dtype: float64"
      ]
     },
     "execution_count": 144,
     "metadata": {},
     "output_type": "execute_result"
    }
   ],
   "source": [
    "normalized_stroke_mean =auto['stroke'][auto['stroke'] != \"?\"].astype(float).mean()\n",
    "auto['stroke'] = auto['stroke'].replace(\"?\",normalized_stroke_mean).astype(float)\n",
    "auto['stroke'].head()\n"
   ]
  },
  {
   "cell_type": "code",
   "execution_count": 145,
   "metadata": {},
   "outputs": [
    {
     "data": {
      "text/plain": [
       "0    111\n",
       "1    111\n",
       "2    154\n",
       "3    102\n",
       "4    115\n",
       "Name: horsepower, dtype: int32"
      ]
     },
     "execution_count": 145,
     "metadata": {},
     "output_type": "execute_result"
    }
   ],
   "source": [
    "#Cleaning of the horsepower data\n",
    "auto['horsepower'][auto['horsepower'] == \"?\"].count()\n",
    "normalized_horsepower_mean =auto['horsepower'][auto['horsepower'] != \"?\"].astype(int).mean()\n",
    "auto['horsepower'] = auto['horsepower'].replace(\"?\",normalized_horsepower_mean).astype(int)\n",
    "auto['horsepower'].head()"
   ]
  },
  {
   "cell_type": "code",
   "execution_count": 146,
   "metadata": {},
   "outputs": [
    {
     "data": {
      "text/plain": [
       "0    5000\n",
       "1    5000\n",
       "2    5000\n",
       "3    5500\n",
       "4    5500\n",
       "Name: peak-rpm, dtype: int32"
      ]
     },
     "execution_count": 146,
     "metadata": {},
     "output_type": "execute_result"
    }
   ],
   "source": [
    "#Cleaning of the peak-rpm data\n",
    "auto['peak-rpm'][auto['peak-rpm'] == \"?\"].count()\n",
    "normalized_peak_rpm_mean = auto['peak-rpm'][auto['peak-rpm'] != \"?\"].astype(int).mean()\n",
    "auto['peak-rpm'] = auto['peak-rpm'].replace(\"?\",normalized_peak_rpm_mean).astype(int)\n",
    "auto['peak-rpm'].head()\n"
   ]
  },
  {
   "cell_type": "code",
   "execution_count": 147,
   "metadata": {},
   "outputs": [
    {
     "data": {
      "text/plain": [
       "0    13495\n",
       "1    16500\n",
       "2    16500\n",
       "3    13950\n",
       "4    17450\n",
       "Name: price, dtype: int32"
      ]
     },
     "execution_count": 147,
     "metadata": {},
     "output_type": "execute_result"
    }
   ],
   "source": [
    "#Cleaning of the price data\n",
    "auto['price'][auto['price'] == \"?\"].count()\n",
    "normalized_price_mean = auto['price'][auto['price'] != \"?\"].astype(int).mean()\n",
    "auto['price'] = auto['price'].replace(\"?\",normalized_price_mean).astype(int)\n",
    "auto['price'].head()"
   ]
  },
  {
   "cell_type": "code",
   "execution_count": 148,
   "metadata": {},
   "outputs": [],
   "source": [
    "#Cleaning of the num-of-doors data, since its categorical replaced with mode\n",
    "auto['num-of-doors'][auto['num-of-doors'] == \"?\"].count()\n",
    "auto['num-of-doors'][auto['num-of-doors'] != \"?\"].count()\n",
    "door_mode = auto['num-of-doors'].mode()\n",
    "auto['num-of-doors'] =auto['num-of-doors'].str.replace(\"?\",'door_mode')"
   ]
  },
  {
   "cell_type": "code",
   "execution_count": 149,
   "metadata": {},
   "outputs": [
    {
     "data": {
      "text/plain": [
       "symboling              int64\n",
       "normalized-losses      int32\n",
       "make                  object\n",
       "fuel-type             object\n",
       "aspiration            object\n",
       "num-of-doors          object\n",
       "body-style            object\n",
       "drive-wheels          object\n",
       "engine-location       object\n",
       "wheel-base           float64\n",
       "length               float64\n",
       "width                float64\n",
       "height               float64\n",
       "curb-weight            int64\n",
       "engine-type           object\n",
       "num-of-cylinders      object\n",
       "engine-size            int64\n",
       "fuel-system           object\n",
       "bore                 float64\n",
       "stroke               float64\n",
       "compression-ratio    float64\n",
       "horsepower             int32\n",
       "peak-rpm               int32\n",
       "city-mpg               int64\n",
       "highway-mpg            int64\n",
       "price                  int32\n",
       "dtype: object"
      ]
     },
     "execution_count": 149,
     "metadata": {},
     "output_type": "execute_result"
    }
   ],
   "source": [
    "#checking final data types after cleaning\n",
    "auto.dtypes"
   ]
  },
  {
   "cell_type": "code",
   "execution_count": 150,
   "metadata": {},
   "outputs": [
    {
     "data": {
      "text/html": [
       "<div>\n",
       "<style scoped>\n",
       "    .dataframe tbody tr th:only-of-type {\n",
       "        vertical-align: middle;\n",
       "    }\n",
       "\n",
       "    .dataframe tbody tr th {\n",
       "        vertical-align: top;\n",
       "    }\n",
       "\n",
       "    .dataframe thead th {\n",
       "        text-align: right;\n",
       "    }\n",
       "</style>\n",
       "<table border=\"1\" class=\"dataframe\">\n",
       "  <thead>\n",
       "    <tr style=\"text-align: right;\">\n",
       "      <th></th>\n",
       "      <th>make</th>\n",
       "      <th>fuel-type</th>\n",
       "      <th>aspiration</th>\n",
       "      <th>num-of-doors</th>\n",
       "      <th>body-style</th>\n",
       "      <th>drive-wheels</th>\n",
       "      <th>engine-location</th>\n",
       "      <th>engine-type</th>\n",
       "      <th>num-of-cylinders</th>\n",
       "      <th>fuel-system</th>\n",
       "    </tr>\n",
       "  </thead>\n",
       "  <tbody>\n",
       "    <tr>\n",
       "      <th>0</th>\n",
       "      <td>alfa-romero</td>\n",
       "      <td>gas</td>\n",
       "      <td>std</td>\n",
       "      <td>two</td>\n",
       "      <td>convertible</td>\n",
       "      <td>rwd</td>\n",
       "      <td>front</td>\n",
       "      <td>dohc</td>\n",
       "      <td>four</td>\n",
       "      <td>mpfi</td>\n",
       "    </tr>\n",
       "    <tr>\n",
       "      <th>1</th>\n",
       "      <td>alfa-romero</td>\n",
       "      <td>gas</td>\n",
       "      <td>std</td>\n",
       "      <td>two</td>\n",
       "      <td>convertible</td>\n",
       "      <td>rwd</td>\n",
       "      <td>front</td>\n",
       "      <td>dohc</td>\n",
       "      <td>four</td>\n",
       "      <td>mpfi</td>\n",
       "    </tr>\n",
       "    <tr>\n",
       "      <th>2</th>\n",
       "      <td>alfa-romero</td>\n",
       "      <td>gas</td>\n",
       "      <td>std</td>\n",
       "      <td>two</td>\n",
       "      <td>hatchback</td>\n",
       "      <td>rwd</td>\n",
       "      <td>front</td>\n",
       "      <td>ohcv</td>\n",
       "      <td>six</td>\n",
       "      <td>mpfi</td>\n",
       "    </tr>\n",
       "    <tr>\n",
       "      <th>3</th>\n",
       "      <td>audi</td>\n",
       "      <td>gas</td>\n",
       "      <td>std</td>\n",
       "      <td>four</td>\n",
       "      <td>sedan</td>\n",
       "      <td>fwd</td>\n",
       "      <td>front</td>\n",
       "      <td>ohc</td>\n",
       "      <td>four</td>\n",
       "      <td>mpfi</td>\n",
       "    </tr>\n",
       "    <tr>\n",
       "      <th>4</th>\n",
       "      <td>audi</td>\n",
       "      <td>gas</td>\n",
       "      <td>std</td>\n",
       "      <td>four</td>\n",
       "      <td>sedan</td>\n",
       "      <td>4wd</td>\n",
       "      <td>front</td>\n",
       "      <td>ohc</td>\n",
       "      <td>five</td>\n",
       "      <td>mpfi</td>\n",
       "    </tr>\n",
       "  </tbody>\n",
       "</table>\n",
       "</div>"
      ],
      "text/plain": [
       "          make fuel-type aspiration num-of-doors   body-style drive-wheels  \\\n",
       "0  alfa-romero       gas        std          two  convertible          rwd   \n",
       "1  alfa-romero       gas        std          two  convertible          rwd   \n",
       "2  alfa-romero       gas        std          two    hatchback          rwd   \n",
       "3         audi       gas        std         four        sedan          fwd   \n",
       "4         audi       gas        std         four        sedan          4wd   \n",
       "\n",
       "  engine-location engine-type num-of-cylinders fuel-system  \n",
       "0           front        dohc             four        mpfi  \n",
       "1           front        dohc             four        mpfi  \n",
       "2           front        ohcv              six        mpfi  \n",
       "3           front         ohc             four        mpfi  \n",
       "4           front         ohc             five        mpfi  "
      ]
     },
     "metadata": {},
     "output_type": "display_data"
    },
    {
     "data": {
      "text/plain": [
       "(5, 10)"
      ]
     },
     "execution_count": 150,
     "metadata": {},
     "output_type": "execute_result"
    }
   ],
   "source": [
    "#Segregating categorical columns\n",
    "auto_categorical = auto.select_dtypes('object').head()\n",
    "display(auto_categorical.head())\n",
    "auto_categorical.shape"
   ]
  },
  {
   "cell_type": "code",
   "execution_count": 151,
   "metadata": {},
   "outputs": [
    {
     "data": {
      "text/html": [
       "<div>\n",
       "<style scoped>\n",
       "    .dataframe tbody tr th:only-of-type {\n",
       "        vertical-align: middle;\n",
       "    }\n",
       "\n",
       "    .dataframe tbody tr th {\n",
       "        vertical-align: top;\n",
       "    }\n",
       "\n",
       "    .dataframe thead th {\n",
       "        text-align: right;\n",
       "    }\n",
       "</style>\n",
       "<table border=\"1\" class=\"dataframe\">\n",
       "  <thead>\n",
       "    <tr style=\"text-align: right;\">\n",
       "      <th></th>\n",
       "      <th>symboling</th>\n",
       "      <th>normalized-losses</th>\n",
       "      <th>wheel-base</th>\n",
       "      <th>length</th>\n",
       "      <th>width</th>\n",
       "      <th>height</th>\n",
       "      <th>curb-weight</th>\n",
       "      <th>engine-size</th>\n",
       "      <th>bore</th>\n",
       "      <th>stroke</th>\n",
       "      <th>compression-ratio</th>\n",
       "      <th>horsepower</th>\n",
       "      <th>peak-rpm</th>\n",
       "      <th>city-mpg</th>\n",
       "      <th>highway-mpg</th>\n",
       "      <th>price</th>\n",
       "    </tr>\n",
       "  </thead>\n",
       "  <tbody>\n",
       "    <tr>\n",
       "      <th>0</th>\n",
       "      <td>3</td>\n",
       "      <td>122</td>\n",
       "      <td>88.6</td>\n",
       "      <td>168.8</td>\n",
       "      <td>64.1</td>\n",
       "      <td>48.8</td>\n",
       "      <td>2548</td>\n",
       "      <td>130</td>\n",
       "      <td>3.47</td>\n",
       "      <td>2.68</td>\n",
       "      <td>9.0</td>\n",
       "      <td>111</td>\n",
       "      <td>5000</td>\n",
       "      <td>21</td>\n",
       "      <td>27</td>\n",
       "      <td>13495</td>\n",
       "    </tr>\n",
       "    <tr>\n",
       "      <th>1</th>\n",
       "      <td>3</td>\n",
       "      <td>122</td>\n",
       "      <td>88.6</td>\n",
       "      <td>168.8</td>\n",
       "      <td>64.1</td>\n",
       "      <td>48.8</td>\n",
       "      <td>2548</td>\n",
       "      <td>130</td>\n",
       "      <td>3.47</td>\n",
       "      <td>2.68</td>\n",
       "      <td>9.0</td>\n",
       "      <td>111</td>\n",
       "      <td>5000</td>\n",
       "      <td>21</td>\n",
       "      <td>27</td>\n",
       "      <td>16500</td>\n",
       "    </tr>\n",
       "    <tr>\n",
       "      <th>2</th>\n",
       "      <td>1</td>\n",
       "      <td>122</td>\n",
       "      <td>94.5</td>\n",
       "      <td>171.2</td>\n",
       "      <td>65.5</td>\n",
       "      <td>52.4</td>\n",
       "      <td>2823</td>\n",
       "      <td>152</td>\n",
       "      <td>2.68</td>\n",
       "      <td>3.47</td>\n",
       "      <td>9.0</td>\n",
       "      <td>154</td>\n",
       "      <td>5000</td>\n",
       "      <td>19</td>\n",
       "      <td>26</td>\n",
       "      <td>16500</td>\n",
       "    </tr>\n",
       "    <tr>\n",
       "      <th>3</th>\n",
       "      <td>2</td>\n",
       "      <td>164</td>\n",
       "      <td>99.8</td>\n",
       "      <td>176.6</td>\n",
       "      <td>66.2</td>\n",
       "      <td>54.3</td>\n",
       "      <td>2337</td>\n",
       "      <td>109</td>\n",
       "      <td>3.19</td>\n",
       "      <td>3.40</td>\n",
       "      <td>10.0</td>\n",
       "      <td>102</td>\n",
       "      <td>5500</td>\n",
       "      <td>24</td>\n",
       "      <td>30</td>\n",
       "      <td>13950</td>\n",
       "    </tr>\n",
       "    <tr>\n",
       "      <th>4</th>\n",
       "      <td>2</td>\n",
       "      <td>164</td>\n",
       "      <td>99.4</td>\n",
       "      <td>176.6</td>\n",
       "      <td>66.4</td>\n",
       "      <td>54.3</td>\n",
       "      <td>2824</td>\n",
       "      <td>136</td>\n",
       "      <td>3.19</td>\n",
       "      <td>3.40</td>\n",
       "      <td>8.0</td>\n",
       "      <td>115</td>\n",
       "      <td>5500</td>\n",
       "      <td>18</td>\n",
       "      <td>22</td>\n",
       "      <td>17450</td>\n",
       "    </tr>\n",
       "  </tbody>\n",
       "</table>\n",
       "</div>"
      ],
      "text/plain": [
       "   symboling  normalized-losses  wheel-base  length  width  height  \\\n",
       "0          3                122        88.6   168.8   64.1    48.8   \n",
       "1          3                122        88.6   168.8   64.1    48.8   \n",
       "2          1                122        94.5   171.2   65.5    52.4   \n",
       "3          2                164        99.8   176.6   66.2    54.3   \n",
       "4          2                164        99.4   176.6   66.4    54.3   \n",
       "\n",
       "   curb-weight  engine-size  bore  stroke  compression-ratio  horsepower  \\\n",
       "0         2548          130  3.47    2.68                9.0         111   \n",
       "1         2548          130  3.47    2.68                9.0         111   \n",
       "2         2823          152  2.68    3.47                9.0         154   \n",
       "3         2337          109  3.19    3.40               10.0         102   \n",
       "4         2824          136  3.19    3.40                8.0         115   \n",
       "\n",
       "   peak-rpm  city-mpg  highway-mpg  price  \n",
       "0      5000        21           27  13495  \n",
       "1      5000        21           27  16500  \n",
       "2      5000        19           26  16500  \n",
       "3      5500        24           30  13950  \n",
       "4      5500        18           22  17450  "
      ]
     },
     "metadata": {},
     "output_type": "display_data"
    },
    {
     "data": {
      "text/plain": [
       "(5, 16)"
      ]
     },
     "execution_count": 151,
     "metadata": {},
     "output_type": "execute_result"
    }
   ],
   "source": [
    "#Segregating numeric data colums\n",
    "auto_numeric = auto.select_dtypes('number').head()\n",
    "display(auto_numeric.head())\n",
    "auto_numeric.shape"
   ]
  },
  {
   "cell_type": "code",
   "execution_count": 152,
   "metadata": {},
   "outputs": [
    {
     "data": {
      "text/html": [
       "<div>\n",
       "<style scoped>\n",
       "    .dataframe tbody tr th:only-of-type {\n",
       "        vertical-align: middle;\n",
       "    }\n",
       "\n",
       "    .dataframe tbody tr th {\n",
       "        vertical-align: top;\n",
       "    }\n",
       "\n",
       "    .dataframe thead th {\n",
       "        text-align: right;\n",
       "    }\n",
       "</style>\n",
       "<table border=\"1\" class=\"dataframe\">\n",
       "  <thead>\n",
       "    <tr style=\"text-align: right;\">\n",
       "      <th></th>\n",
       "      <th>make</th>\n",
       "      <th>fuel-type</th>\n",
       "      <th>aspiration</th>\n",
       "      <th>num-of-doors</th>\n",
       "      <th>body-style</th>\n",
       "      <th>drive-wheels</th>\n",
       "      <th>engine-location</th>\n",
       "      <th>engine-type</th>\n",
       "      <th>num-of-cylinders</th>\n",
       "      <th>fuel-system</th>\n",
       "    </tr>\n",
       "  </thead>\n",
       "  <tbody>\n",
       "    <tr>\n",
       "      <th>count</th>\n",
       "      <td>5</td>\n",
       "      <td>5</td>\n",
       "      <td>5</td>\n",
       "      <td>5</td>\n",
       "      <td>5</td>\n",
       "      <td>5</td>\n",
       "      <td>5</td>\n",
       "      <td>5</td>\n",
       "      <td>5</td>\n",
       "      <td>5</td>\n",
       "    </tr>\n",
       "    <tr>\n",
       "      <th>unique</th>\n",
       "      <td>2</td>\n",
       "      <td>1</td>\n",
       "      <td>1</td>\n",
       "      <td>2</td>\n",
       "      <td>3</td>\n",
       "      <td>3</td>\n",
       "      <td>1</td>\n",
       "      <td>3</td>\n",
       "      <td>3</td>\n",
       "      <td>1</td>\n",
       "    </tr>\n",
       "    <tr>\n",
       "      <th>top</th>\n",
       "      <td>alfa-romero</td>\n",
       "      <td>gas</td>\n",
       "      <td>std</td>\n",
       "      <td>two</td>\n",
       "      <td>convertible</td>\n",
       "      <td>rwd</td>\n",
       "      <td>front</td>\n",
       "      <td>dohc</td>\n",
       "      <td>four</td>\n",
       "      <td>mpfi</td>\n",
       "    </tr>\n",
       "    <tr>\n",
       "      <th>freq</th>\n",
       "      <td>3</td>\n",
       "      <td>5</td>\n",
       "      <td>5</td>\n",
       "      <td>3</td>\n",
       "      <td>2</td>\n",
       "      <td>3</td>\n",
       "      <td>5</td>\n",
       "      <td>2</td>\n",
       "      <td>3</td>\n",
       "      <td>5</td>\n",
       "    </tr>\n",
       "  </tbody>\n",
       "</table>\n",
       "</div>"
      ],
      "text/plain": [
       "               make fuel-type aspiration num-of-doors   body-style  \\\n",
       "count             5         5          5            5            5   \n",
       "unique            2         1          1            2            3   \n",
       "top     alfa-romero       gas        std          two  convertible   \n",
       "freq              3         5          5            3            2   \n",
       "\n",
       "       drive-wheels engine-location engine-type num-of-cylinders fuel-system  \n",
       "count             5               5           5                5           5  \n",
       "unique            3               1           3                3           1  \n",
       "top             rwd           front        dohc             four        mpfi  \n",
       "freq              3               5           2                3           5  "
      ]
     },
     "execution_count": 152,
     "metadata": {},
     "output_type": "execute_result"
    }
   ],
   "source": [
    "# calculating Summary Statistics on categorical Values\n",
    "auto_categorical.describe()"
   ]
  },
  {
   "cell_type": "code",
   "execution_count": 153,
   "metadata": {},
   "outputs": [
    {
     "data": {
      "text/html": [
       "<div>\n",
       "<style scoped>\n",
       "    .dataframe tbody tr th:only-of-type {\n",
       "        vertical-align: middle;\n",
       "    }\n",
       "\n",
       "    .dataframe tbody tr th {\n",
       "        vertical-align: top;\n",
       "    }\n",
       "\n",
       "    .dataframe thead th {\n",
       "        text-align: right;\n",
       "    }\n",
       "</style>\n",
       "<table border=\"1\" class=\"dataframe\">\n",
       "  <thead>\n",
       "    <tr style=\"text-align: right;\">\n",
       "      <th></th>\n",
       "      <th>symboling</th>\n",
       "      <th>normalized-losses</th>\n",
       "      <th>wheel-base</th>\n",
       "      <th>length</th>\n",
       "      <th>width</th>\n",
       "      <th>height</th>\n",
       "      <th>curb-weight</th>\n",
       "      <th>engine-size</th>\n",
       "      <th>bore</th>\n",
       "      <th>stroke</th>\n",
       "      <th>compression-ratio</th>\n",
       "      <th>horsepower</th>\n",
       "      <th>peak-rpm</th>\n",
       "      <th>city-mpg</th>\n",
       "      <th>highway-mpg</th>\n",
       "      <th>price</th>\n",
       "    </tr>\n",
       "  </thead>\n",
       "  <tbody>\n",
       "    <tr>\n",
       "      <th>count</th>\n",
       "      <td>5.00000</td>\n",
       "      <td>5.000000</td>\n",
       "      <td>5.000000</td>\n",
       "      <td>5.000000</td>\n",
       "      <td>5.000000</td>\n",
       "      <td>5.000000</td>\n",
       "      <td>5.000000</td>\n",
       "      <td>5.000000</td>\n",
       "      <td>5.000000</td>\n",
       "      <td>5.000000</td>\n",
       "      <td>5.000000</td>\n",
       "      <td>5.000000</td>\n",
       "      <td>5.000000</td>\n",
       "      <td>5.000000</td>\n",
       "      <td>5.000000</td>\n",
       "      <td>5.000000</td>\n",
       "    </tr>\n",
       "    <tr>\n",
       "      <th>mean</th>\n",
       "      <td>2.20000</td>\n",
       "      <td>138.800000</td>\n",
       "      <td>94.180000</td>\n",
       "      <td>172.400000</td>\n",
       "      <td>65.260000</td>\n",
       "      <td>51.720000</td>\n",
       "      <td>2616.000000</td>\n",
       "      <td>131.400000</td>\n",
       "      <td>3.200000</td>\n",
       "      <td>3.126000</td>\n",
       "      <td>9.000000</td>\n",
       "      <td>118.600000</td>\n",
       "      <td>5200.000000</td>\n",
       "      <td>20.600000</td>\n",
       "      <td>26.400000</td>\n",
       "      <td>15579.000000</td>\n",
       "    </tr>\n",
       "    <tr>\n",
       "      <th>std</th>\n",
       "      <td>0.83666</td>\n",
       "      <td>23.004347</td>\n",
       "      <td>5.504725</td>\n",
       "      <td>3.957272</td>\n",
       "      <td>1.110405</td>\n",
       "      <td>2.776148</td>\n",
       "      <td>208.087722</td>\n",
       "      <td>15.420765</td>\n",
       "      <td>0.322645</td>\n",
       "      <td>0.408142</td>\n",
       "      <td>0.707107</td>\n",
       "      <td>20.354361</td>\n",
       "      <td>273.861279</td>\n",
       "      <td>2.302173</td>\n",
       "      <td>2.880972</td>\n",
       "      <td>1745.982531</td>\n",
       "    </tr>\n",
       "    <tr>\n",
       "      <th>min</th>\n",
       "      <td>1.00000</td>\n",
       "      <td>122.000000</td>\n",
       "      <td>88.600000</td>\n",
       "      <td>168.800000</td>\n",
       "      <td>64.100000</td>\n",
       "      <td>48.800000</td>\n",
       "      <td>2337.000000</td>\n",
       "      <td>109.000000</td>\n",
       "      <td>2.680000</td>\n",
       "      <td>2.680000</td>\n",
       "      <td>8.000000</td>\n",
       "      <td>102.000000</td>\n",
       "      <td>5000.000000</td>\n",
       "      <td>18.000000</td>\n",
       "      <td>22.000000</td>\n",
       "      <td>13495.000000</td>\n",
       "    </tr>\n",
       "    <tr>\n",
       "      <th>25%</th>\n",
       "      <td>2.00000</td>\n",
       "      <td>122.000000</td>\n",
       "      <td>88.600000</td>\n",
       "      <td>168.800000</td>\n",
       "      <td>64.100000</td>\n",
       "      <td>48.800000</td>\n",
       "      <td>2548.000000</td>\n",
       "      <td>130.000000</td>\n",
       "      <td>3.190000</td>\n",
       "      <td>2.680000</td>\n",
       "      <td>9.000000</td>\n",
       "      <td>111.000000</td>\n",
       "      <td>5000.000000</td>\n",
       "      <td>19.000000</td>\n",
       "      <td>26.000000</td>\n",
       "      <td>13950.000000</td>\n",
       "    </tr>\n",
       "    <tr>\n",
       "      <th>50%</th>\n",
       "      <td>2.00000</td>\n",
       "      <td>122.000000</td>\n",
       "      <td>94.500000</td>\n",
       "      <td>171.200000</td>\n",
       "      <td>65.500000</td>\n",
       "      <td>52.400000</td>\n",
       "      <td>2548.000000</td>\n",
       "      <td>130.000000</td>\n",
       "      <td>3.190000</td>\n",
       "      <td>3.400000</td>\n",
       "      <td>9.000000</td>\n",
       "      <td>111.000000</td>\n",
       "      <td>5000.000000</td>\n",
       "      <td>21.000000</td>\n",
       "      <td>27.000000</td>\n",
       "      <td>16500.000000</td>\n",
       "    </tr>\n",
       "    <tr>\n",
       "      <th>75%</th>\n",
       "      <td>3.00000</td>\n",
       "      <td>164.000000</td>\n",
       "      <td>99.400000</td>\n",
       "      <td>176.600000</td>\n",
       "      <td>66.200000</td>\n",
       "      <td>54.300000</td>\n",
       "      <td>2823.000000</td>\n",
       "      <td>136.000000</td>\n",
       "      <td>3.470000</td>\n",
       "      <td>3.400000</td>\n",
       "      <td>9.000000</td>\n",
       "      <td>115.000000</td>\n",
       "      <td>5500.000000</td>\n",
       "      <td>21.000000</td>\n",
       "      <td>27.000000</td>\n",
       "      <td>16500.000000</td>\n",
       "    </tr>\n",
       "    <tr>\n",
       "      <th>max</th>\n",
       "      <td>3.00000</td>\n",
       "      <td>164.000000</td>\n",
       "      <td>99.800000</td>\n",
       "      <td>176.600000</td>\n",
       "      <td>66.400000</td>\n",
       "      <td>54.300000</td>\n",
       "      <td>2824.000000</td>\n",
       "      <td>152.000000</td>\n",
       "      <td>3.470000</td>\n",
       "      <td>3.470000</td>\n",
       "      <td>10.000000</td>\n",
       "      <td>154.000000</td>\n",
       "      <td>5500.000000</td>\n",
       "      <td>24.000000</td>\n",
       "      <td>30.000000</td>\n",
       "      <td>17450.000000</td>\n",
       "    </tr>\n",
       "  </tbody>\n",
       "</table>\n",
       "</div>"
      ],
      "text/plain": [
       "       symboling  normalized-losses  wheel-base      length      width  \\\n",
       "count    5.00000           5.000000    5.000000    5.000000   5.000000   \n",
       "mean     2.20000         138.800000   94.180000  172.400000  65.260000   \n",
       "std      0.83666          23.004347    5.504725    3.957272   1.110405   \n",
       "min      1.00000         122.000000   88.600000  168.800000  64.100000   \n",
       "25%      2.00000         122.000000   88.600000  168.800000  64.100000   \n",
       "50%      2.00000         122.000000   94.500000  171.200000  65.500000   \n",
       "75%      3.00000         164.000000   99.400000  176.600000  66.200000   \n",
       "max      3.00000         164.000000   99.800000  176.600000  66.400000   \n",
       "\n",
       "          height  curb-weight  engine-size      bore    stroke  \\\n",
       "count   5.000000     5.000000     5.000000  5.000000  5.000000   \n",
       "mean   51.720000  2616.000000   131.400000  3.200000  3.126000   \n",
       "std     2.776148   208.087722    15.420765  0.322645  0.408142   \n",
       "min    48.800000  2337.000000   109.000000  2.680000  2.680000   \n",
       "25%    48.800000  2548.000000   130.000000  3.190000  2.680000   \n",
       "50%    52.400000  2548.000000   130.000000  3.190000  3.400000   \n",
       "75%    54.300000  2823.000000   136.000000  3.470000  3.400000   \n",
       "max    54.300000  2824.000000   152.000000  3.470000  3.470000   \n",
       "\n",
       "       compression-ratio  horsepower     peak-rpm   city-mpg  highway-mpg  \\\n",
       "count           5.000000    5.000000     5.000000   5.000000     5.000000   \n",
       "mean            9.000000  118.600000  5200.000000  20.600000    26.400000   \n",
       "std             0.707107   20.354361   273.861279   2.302173     2.880972   \n",
       "min             8.000000  102.000000  5000.000000  18.000000    22.000000   \n",
       "25%             9.000000  111.000000  5000.000000  19.000000    26.000000   \n",
       "50%             9.000000  111.000000  5000.000000  21.000000    27.000000   \n",
       "75%             9.000000  115.000000  5500.000000  21.000000    27.000000   \n",
       "max            10.000000  154.000000  5500.000000  24.000000    30.000000   \n",
       "\n",
       "              price  \n",
       "count      5.000000  \n",
       "mean   15579.000000  \n",
       "std     1745.982531  \n",
       "min    13495.000000  \n",
       "25%    13950.000000  \n",
       "50%    16500.000000  \n",
       "75%    16500.000000  \n",
       "max    17450.000000  "
      ]
     },
     "execution_count": 153,
     "metadata": {},
     "output_type": "execute_result"
    }
   ],
   "source": [
    "# calculating Summary Statistics on Numeric Values\n",
    "auto_numeric.describe()"
   ]
  },
  {
   "cell_type": "code",
   "execution_count": 154,
   "metadata": {},
   "outputs": [
    {
     "data": {
      "text/html": [
       "<div>\n",
       "<style scoped>\n",
       "    .dataframe tbody tr th:only-of-type {\n",
       "        vertical-align: middle;\n",
       "    }\n",
       "\n",
       "    .dataframe tbody tr th {\n",
       "        vertical-align: top;\n",
       "    }\n",
       "\n",
       "    .dataframe thead th {\n",
       "        text-align: right;\n",
       "    }\n",
       "</style>\n",
       "<table border=\"1\" class=\"dataframe\">\n",
       "  <thead>\n",
       "    <tr style=\"text-align: right;\">\n",
       "      <th></th>\n",
       "      <th>symboling</th>\n",
       "      <th>normalized-losses</th>\n",
       "      <th>wheel-base</th>\n",
       "      <th>length</th>\n",
       "      <th>width</th>\n",
       "      <th>height</th>\n",
       "      <th>curb-weight</th>\n",
       "      <th>engine-size</th>\n",
       "      <th>bore</th>\n",
       "      <th>stroke</th>\n",
       "      <th>compression-ratio</th>\n",
       "      <th>horsepower</th>\n",
       "      <th>peak-rpm</th>\n",
       "      <th>city-mpg</th>\n",
       "      <th>highway-mpg</th>\n",
       "      <th>price</th>\n",
       "    </tr>\n",
       "  </thead>\n",
       "  <tbody>\n",
       "    <tr>\n",
       "      <th>symboling</th>\n",
       "      <td>1.000000</td>\n",
       "      <td>0.465190</td>\n",
       "      <td>-0.531954</td>\n",
       "      <td>-0.357612</td>\n",
       "      <td>-0.232919</td>\n",
       "      <td>-0.541038</td>\n",
       "      <td>-0.227691</td>\n",
       "      <td>-0.105790</td>\n",
       "      <td>-0.130083</td>\n",
       "      <td>-0.008689</td>\n",
       "      <td>-0.178515</td>\n",
       "      <td>0.071380</td>\n",
       "      <td>0.273678</td>\n",
       "      <td>-0.035823</td>\n",
       "      <td>0.034606</td>\n",
       "      <td>-0.082201</td>\n",
       "    </tr>\n",
       "    <tr>\n",
       "      <th>normalized-losses</th>\n",
       "      <td>0.465190</td>\n",
       "      <td>1.000000</td>\n",
       "      <td>-0.056518</td>\n",
       "      <td>0.019209</td>\n",
       "      <td>0.084195</td>\n",
       "      <td>-0.370706</td>\n",
       "      <td>0.097785</td>\n",
       "      <td>0.110997</td>\n",
       "      <td>-0.029266</td>\n",
       "      <td>0.054929</td>\n",
       "      <td>-0.114525</td>\n",
       "      <td>0.203434</td>\n",
       "      <td>0.237748</td>\n",
       "      <td>-0.218749</td>\n",
       "      <td>-0.178221</td>\n",
       "      <td>0.133999</td>\n",
       "    </tr>\n",
       "    <tr>\n",
       "      <th>wheel-base</th>\n",
       "      <td>-0.531954</td>\n",
       "      <td>-0.056518</td>\n",
       "      <td>1.000000</td>\n",
       "      <td>0.874587</td>\n",
       "      <td>0.795144</td>\n",
       "      <td>0.589435</td>\n",
       "      <td>0.776386</td>\n",
       "      <td>0.569329</td>\n",
       "      <td>0.488760</td>\n",
       "      <td>0.160944</td>\n",
       "      <td>0.249786</td>\n",
       "      <td>0.351985</td>\n",
       "      <td>-0.360700</td>\n",
       "      <td>-0.470414</td>\n",
       "      <td>-0.544082</td>\n",
       "      <td>0.583168</td>\n",
       "    </tr>\n",
       "    <tr>\n",
       "      <th>length</th>\n",
       "      <td>-0.357612</td>\n",
       "      <td>0.019209</td>\n",
       "      <td>0.874587</td>\n",
       "      <td>1.000000</td>\n",
       "      <td>0.841118</td>\n",
       "      <td>0.491029</td>\n",
       "      <td>0.877728</td>\n",
       "      <td>0.683360</td>\n",
       "      <td>0.606462</td>\n",
       "      <td>0.129522</td>\n",
       "      <td>0.158414</td>\n",
       "      <td>0.554408</td>\n",
       "      <td>-0.287034</td>\n",
       "      <td>-0.670909</td>\n",
       "      <td>-0.704662</td>\n",
       "      <td>0.682986</td>\n",
       "    </tr>\n",
       "    <tr>\n",
       "      <th>width</th>\n",
       "      <td>-0.232919</td>\n",
       "      <td>0.084195</td>\n",
       "      <td>0.795144</td>\n",
       "      <td>0.841118</td>\n",
       "      <td>1.000000</td>\n",
       "      <td>0.279210</td>\n",
       "      <td>0.867032</td>\n",
       "      <td>0.735433</td>\n",
       "      <td>0.559152</td>\n",
       "      <td>0.182939</td>\n",
       "      <td>0.181129</td>\n",
       "      <td>0.642176</td>\n",
       "      <td>-0.219861</td>\n",
       "      <td>-0.642704</td>\n",
       "      <td>-0.677218</td>\n",
       "      <td>0.728699</td>\n",
       "    </tr>\n",
       "    <tr>\n",
       "      <th>height</th>\n",
       "      <td>-0.541038</td>\n",
       "      <td>-0.370706</td>\n",
       "      <td>0.589435</td>\n",
       "      <td>0.491029</td>\n",
       "      <td>0.279210</td>\n",
       "      <td>1.000000</td>\n",
       "      <td>0.295572</td>\n",
       "      <td>0.067149</td>\n",
       "      <td>0.171101</td>\n",
       "      <td>-0.055351</td>\n",
       "      <td>0.261214</td>\n",
       "      <td>-0.110114</td>\n",
       "      <td>-0.320599</td>\n",
       "      <td>-0.048640</td>\n",
       "      <td>-0.107358</td>\n",
       "      <td>0.134388</td>\n",
       "    </tr>\n",
       "    <tr>\n",
       "      <th>curb-weight</th>\n",
       "      <td>-0.227691</td>\n",
       "      <td>0.097785</td>\n",
       "      <td>0.776386</td>\n",
       "      <td>0.877728</td>\n",
       "      <td>0.867032</td>\n",
       "      <td>0.295572</td>\n",
       "      <td>1.000000</td>\n",
       "      <td>0.850594</td>\n",
       "      <td>0.648485</td>\n",
       "      <td>0.168783</td>\n",
       "      <td>0.151362</td>\n",
       "      <td>0.750973</td>\n",
       "      <td>-0.266282</td>\n",
       "      <td>-0.757414</td>\n",
       "      <td>-0.797465</td>\n",
       "      <td>0.820825</td>\n",
       "    </tr>\n",
       "    <tr>\n",
       "      <th>engine-size</th>\n",
       "      <td>-0.105790</td>\n",
       "      <td>0.110997</td>\n",
       "      <td>0.569329</td>\n",
       "      <td>0.683360</td>\n",
       "      <td>0.735433</td>\n",
       "      <td>0.067149</td>\n",
       "      <td>0.850594</td>\n",
       "      <td>1.000000</td>\n",
       "      <td>0.583798</td>\n",
       "      <td>0.203094</td>\n",
       "      <td>0.028971</td>\n",
       "      <td>0.810705</td>\n",
       "      <td>-0.244600</td>\n",
       "      <td>-0.653658</td>\n",
       "      <td>-0.677470</td>\n",
       "      <td>0.861752</td>\n",
       "    </tr>\n",
       "    <tr>\n",
       "      <th>bore</th>\n",
       "      <td>-0.130083</td>\n",
       "      <td>-0.029266</td>\n",
       "      <td>0.488760</td>\n",
       "      <td>0.606462</td>\n",
       "      <td>0.559152</td>\n",
       "      <td>0.171101</td>\n",
       "      <td>0.648485</td>\n",
       "      <td>0.583798</td>\n",
       "      <td>1.000000</td>\n",
       "      <td>-0.055909</td>\n",
       "      <td>0.005201</td>\n",
       "      <td>0.575707</td>\n",
       "      <td>-0.254765</td>\n",
       "      <td>-0.584508</td>\n",
       "      <td>-0.586992</td>\n",
       "      <td>0.532300</td>\n",
       "    </tr>\n",
       "    <tr>\n",
       "      <th>stroke</th>\n",
       "      <td>-0.008689</td>\n",
       "      <td>0.054929</td>\n",
       "      <td>0.160944</td>\n",
       "      <td>0.129522</td>\n",
       "      <td>0.182939</td>\n",
       "      <td>-0.055351</td>\n",
       "      <td>0.168783</td>\n",
       "      <td>0.203094</td>\n",
       "      <td>-0.055909</td>\n",
       "      <td>1.000000</td>\n",
       "      <td>0.186105</td>\n",
       "      <td>0.088133</td>\n",
       "      <td>-0.066860</td>\n",
       "      <td>-0.042179</td>\n",
       "      <td>-0.043961</td>\n",
       "      <td>0.082095</td>\n",
       "    </tr>\n",
       "    <tr>\n",
       "      <th>compression-ratio</th>\n",
       "      <td>-0.178515</td>\n",
       "      <td>-0.114525</td>\n",
       "      <td>0.249786</td>\n",
       "      <td>0.158414</td>\n",
       "      <td>0.181129</td>\n",
       "      <td>0.261214</td>\n",
       "      <td>0.151362</td>\n",
       "      <td>0.028971</td>\n",
       "      <td>0.005201</td>\n",
       "      <td>0.186105</td>\n",
       "      <td>1.000000</td>\n",
       "      <td>-0.205717</td>\n",
       "      <td>-0.435933</td>\n",
       "      <td>0.324701</td>\n",
       "      <td>0.265201</td>\n",
       "      <td>0.070990</td>\n",
       "    </tr>\n",
       "    <tr>\n",
       "      <th>horsepower</th>\n",
       "      <td>0.071380</td>\n",
       "      <td>0.203434</td>\n",
       "      <td>0.351985</td>\n",
       "      <td>0.554408</td>\n",
       "      <td>0.642176</td>\n",
       "      <td>-0.110114</td>\n",
       "      <td>0.750973</td>\n",
       "      <td>0.810705</td>\n",
       "      <td>0.575707</td>\n",
       "      <td>0.088133</td>\n",
       "      <td>-0.205717</td>\n",
       "      <td>1.000000</td>\n",
       "      <td>0.130971</td>\n",
       "      <td>-0.803140</td>\n",
       "      <td>-0.770905</td>\n",
       "      <td>0.757946</td>\n",
       "    </tr>\n",
       "    <tr>\n",
       "      <th>peak-rpm</th>\n",
       "      <td>0.273678</td>\n",
       "      <td>0.237748</td>\n",
       "      <td>-0.360700</td>\n",
       "      <td>-0.287034</td>\n",
       "      <td>-0.219861</td>\n",
       "      <td>-0.320599</td>\n",
       "      <td>-0.266282</td>\n",
       "      <td>-0.244600</td>\n",
       "      <td>-0.254765</td>\n",
       "      <td>-0.066860</td>\n",
       "      <td>-0.435933</td>\n",
       "      <td>0.130971</td>\n",
       "      <td>1.000000</td>\n",
       "      <td>-0.113720</td>\n",
       "      <td>-0.054257</td>\n",
       "      <td>-0.100851</td>\n",
       "    </tr>\n",
       "    <tr>\n",
       "      <th>city-mpg</th>\n",
       "      <td>-0.035823</td>\n",
       "      <td>-0.218749</td>\n",
       "      <td>-0.470414</td>\n",
       "      <td>-0.670909</td>\n",
       "      <td>-0.642704</td>\n",
       "      <td>-0.048640</td>\n",
       "      <td>-0.757414</td>\n",
       "      <td>-0.653658</td>\n",
       "      <td>-0.584508</td>\n",
       "      <td>-0.042179</td>\n",
       "      <td>0.324701</td>\n",
       "      <td>-0.803140</td>\n",
       "      <td>-0.113720</td>\n",
       "      <td>1.000000</td>\n",
       "      <td>0.971337</td>\n",
       "      <td>-0.667449</td>\n",
       "    </tr>\n",
       "    <tr>\n",
       "      <th>highway-mpg</th>\n",
       "      <td>0.034606</td>\n",
       "      <td>-0.178221</td>\n",
       "      <td>-0.544082</td>\n",
       "      <td>-0.704662</td>\n",
       "      <td>-0.677218</td>\n",
       "      <td>-0.107358</td>\n",
       "      <td>-0.797465</td>\n",
       "      <td>-0.677470</td>\n",
       "      <td>-0.586992</td>\n",
       "      <td>-0.043961</td>\n",
       "      <td>0.265201</td>\n",
       "      <td>-0.770905</td>\n",
       "      <td>-0.054257</td>\n",
       "      <td>0.971337</td>\n",
       "      <td>1.000000</td>\n",
       "      <td>-0.690526</td>\n",
       "    </tr>\n",
       "    <tr>\n",
       "      <th>price</th>\n",
       "      <td>-0.082201</td>\n",
       "      <td>0.133999</td>\n",
       "      <td>0.583168</td>\n",
       "      <td>0.682986</td>\n",
       "      <td>0.728699</td>\n",
       "      <td>0.134388</td>\n",
       "      <td>0.820825</td>\n",
       "      <td>0.861752</td>\n",
       "      <td>0.532300</td>\n",
       "      <td>0.082095</td>\n",
       "      <td>0.070990</td>\n",
       "      <td>0.757946</td>\n",
       "      <td>-0.100851</td>\n",
       "      <td>-0.667449</td>\n",
       "      <td>-0.690526</td>\n",
       "      <td>1.000000</td>\n",
       "    </tr>\n",
       "  </tbody>\n",
       "</table>\n",
       "</div>"
      ],
      "text/plain": [
       "                   symboling  normalized-losses  wheel-base    length  \\\n",
       "symboling           1.000000           0.465190   -0.531954 -0.357612   \n",
       "normalized-losses   0.465190           1.000000   -0.056518  0.019209   \n",
       "wheel-base         -0.531954          -0.056518    1.000000  0.874587   \n",
       "length             -0.357612           0.019209    0.874587  1.000000   \n",
       "width              -0.232919           0.084195    0.795144  0.841118   \n",
       "height             -0.541038          -0.370706    0.589435  0.491029   \n",
       "curb-weight        -0.227691           0.097785    0.776386  0.877728   \n",
       "engine-size        -0.105790           0.110997    0.569329  0.683360   \n",
       "bore               -0.130083          -0.029266    0.488760  0.606462   \n",
       "stroke             -0.008689           0.054929    0.160944  0.129522   \n",
       "compression-ratio  -0.178515          -0.114525    0.249786  0.158414   \n",
       "horsepower          0.071380           0.203434    0.351985  0.554408   \n",
       "peak-rpm            0.273678           0.237748   -0.360700 -0.287034   \n",
       "city-mpg           -0.035823          -0.218749   -0.470414 -0.670909   \n",
       "highway-mpg         0.034606          -0.178221   -0.544082 -0.704662   \n",
       "price              -0.082201           0.133999    0.583168  0.682986   \n",
       "\n",
       "                      width    height  curb-weight  engine-size      bore  \\\n",
       "symboling         -0.232919 -0.541038    -0.227691    -0.105790 -0.130083   \n",
       "normalized-losses  0.084195 -0.370706     0.097785     0.110997 -0.029266   \n",
       "wheel-base         0.795144  0.589435     0.776386     0.569329  0.488760   \n",
       "length             0.841118  0.491029     0.877728     0.683360  0.606462   \n",
       "width              1.000000  0.279210     0.867032     0.735433  0.559152   \n",
       "height             0.279210  1.000000     0.295572     0.067149  0.171101   \n",
       "curb-weight        0.867032  0.295572     1.000000     0.850594  0.648485   \n",
       "engine-size        0.735433  0.067149     0.850594     1.000000  0.583798   \n",
       "bore               0.559152  0.171101     0.648485     0.583798  1.000000   \n",
       "stroke             0.182939 -0.055351     0.168783     0.203094 -0.055909   \n",
       "compression-ratio  0.181129  0.261214     0.151362     0.028971  0.005201   \n",
       "horsepower         0.642176 -0.110114     0.750973     0.810705  0.575707   \n",
       "peak-rpm          -0.219861 -0.320599    -0.266282    -0.244600 -0.254765   \n",
       "city-mpg          -0.642704 -0.048640    -0.757414    -0.653658 -0.584508   \n",
       "highway-mpg       -0.677218 -0.107358    -0.797465    -0.677470 -0.586992   \n",
       "price              0.728699  0.134388     0.820825     0.861752  0.532300   \n",
       "\n",
       "                     stroke  compression-ratio  horsepower  peak-rpm  \\\n",
       "symboling         -0.008689          -0.178515    0.071380  0.273678   \n",
       "normalized-losses  0.054929          -0.114525    0.203434  0.237748   \n",
       "wheel-base         0.160944           0.249786    0.351985 -0.360700   \n",
       "length             0.129522           0.158414    0.554408 -0.287034   \n",
       "width              0.182939           0.181129    0.642176 -0.219861   \n",
       "height            -0.055351           0.261214   -0.110114 -0.320599   \n",
       "curb-weight        0.168783           0.151362    0.750973 -0.266282   \n",
       "engine-size        0.203094           0.028971    0.810705 -0.244600   \n",
       "bore              -0.055909           0.005201    0.575707 -0.254765   \n",
       "stroke             1.000000           0.186105    0.088133 -0.066860   \n",
       "compression-ratio  0.186105           1.000000   -0.205717 -0.435933   \n",
       "horsepower         0.088133          -0.205717    1.000000  0.130971   \n",
       "peak-rpm          -0.066860          -0.435933    0.130971  1.000000   \n",
       "city-mpg          -0.042179           0.324701   -0.803140 -0.113720   \n",
       "highway-mpg       -0.043961           0.265201   -0.770905 -0.054257   \n",
       "price              0.082095           0.070990    0.757946 -0.100851   \n",
       "\n",
       "                   city-mpg  highway-mpg     price  \n",
       "symboling         -0.035823     0.034606 -0.082201  \n",
       "normalized-losses -0.218749    -0.178221  0.133999  \n",
       "wheel-base        -0.470414    -0.544082  0.583168  \n",
       "length            -0.670909    -0.704662  0.682986  \n",
       "width             -0.642704    -0.677218  0.728699  \n",
       "height            -0.048640    -0.107358  0.134388  \n",
       "curb-weight       -0.757414    -0.797465  0.820825  \n",
       "engine-size       -0.653658    -0.677470  0.861752  \n",
       "bore              -0.584508    -0.586992  0.532300  \n",
       "stroke            -0.042179    -0.043961  0.082095  \n",
       "compression-ratio  0.324701     0.265201  0.070990  \n",
       "horsepower        -0.803140    -0.770905  0.757946  \n",
       "peak-rpm          -0.113720    -0.054257 -0.100851  \n",
       "city-mpg           1.000000     0.971337 -0.667449  \n",
       "highway-mpg        0.971337     1.000000 -0.690526  \n",
       "price             -0.667449    -0.690526  1.000000  "
      ]
     },
     "execution_count": 154,
     "metadata": {},
     "output_type": "execute_result"
    }
   ],
   "source": [
    "#Finding correlation between columns\n",
    "auto.corr()"
   ]
  },
  {
   "cell_type": "code",
   "execution_count": 155,
   "metadata": {},
   "outputs": [
    {
     "data": {
      "text/plain": [
       "<matplotlib.axes._subplots.AxesSubplot at 0x19ce27e27c8>"
      ]
     },
     "execution_count": 155,
     "metadata": {},
     "output_type": "execute_result"
    },
    {
     "data": {
      "image/png": "[encoded data removed]",
      "text/plain": [
       "<Figure size 1080x720 with 2 Axes>"
      ]
     },
     "metadata": {
      "needs_background": "light"
     },
     "output_type": "display_data"
    }
   ],
   "source": [
    "matrix = np.triu(auto.corr())\n",
    "plt.figure(figsize=(15,10))\n",
    "sns.heatmap(auto.corr(), annot=True, mask=matrix,vmin=0,cmap='coolwarm')"
   ]
  },
  {
   "cell_type": "markdown",
   "metadata": {},
   "source": [
    "Findings from correlation Analysis:\n",
    "1. Price is more correlated with engine size and curb-weight of the car\n",
    "2. Curb weight is mostly correlated with engine size, length, width and wheel base\n",
    "3. Wheel-base is highly correlated with length and width of the car\n",
    "4. Engine-size is correlated with horsepower"
   ]
  },
  {
   "cell_type": "markdown",
   "metadata": {},
   "source": [
    "# Univariate and Bi-variate Analysis"
   ]
  },
  {
   "cell_type": "code",
   "execution_count": 156,
   "metadata": {},
   "outputs": [
    {
     "data": {
      "text/plain": [
       "Text(0.5, 0, 'Make')"
      ]
     },
     "execution_count": 156,
     "metadata": {},
     "output_type": "execute_result"
    },
    {
     "data": {
      "image/png": "[encoded data removed]",
      "text/plain": [
       "<Figure size 720x360 with 1 Axes>"
      ]
     },
     "metadata": {
      "needs_background": "light"
     },
     "output_type": "display_data"
    }
   ],
   "source": [
    "# List car Make manufaturers\n",
    "carmakers = auto['make'].value_counts().nlargest(10)\n",
    "carmakers.plot(kind='bar', figsize=(10,5))\n",
    "plt.title(\"Number of vehicles by make\")\n",
    "plt.ylabel('Number of vehicles')\n",
    "plt.xlabel('Make')"
   ]
  },
  {
   "cell_type": "code",
   "execution_count": 157,
   "metadata": {},
   "outputs": [
    {
     "data": {
      "text/plain": [
       "Text(0.5, 0, 'Risk rating')"
      ]
     },
     "execution_count": 157,
     "metadata": {},
     "output_type": "execute_result"
    },
    {
     "data": {
      "image/png": "[encoded data removed]",
      "text/plain": [
       "<Figure size 432x288 with 1 Axes>"
      ]
     },
     "metadata": {
      "needs_background": "light"
     },
     "output_type": "display_data"
    }
   ],
   "source": [
    "# Insurance Risk level of the vehicles based on price, higher the risk level indicates car is at high risky and vice versa\n",
    "auto['symboling'].hist(bins=6,color='Red')\n",
    "plt.title(\"Insurance risk ratings of vehicles\")\n",
    "plt.ylabel('Number of vehicles')\n",
    "plt.xlabel('Risk rating')"
   ]
  },
  {
   "cell_type": "code",
   "execution_count": 158,
   "metadata": {},
   "outputs": [
    {
     "data": {
      "text/plain": [
       "Text(0.5, 0, 'Normalized losses')"
      ]
     },
     "execution_count": 158,
     "metadata": {},
     "output_type": "execute_result"
    },
    {
     "data": {
      "image/png": "[encoded data removed]",
      "text/plain": [
       "<Figure size 432x288 with 1 Axes>"
      ]
     },
     "metadata": {
      "needs_background": "light"
     },
     "output_type": "display_data"
    }
   ],
   "source": [
    "#normalized-losses is the relative average loss payment per insured vehicle year\n",
    "auto['normalized-losses'].hist(bins=6,color='brown')\n",
    "plt.title(\"Normalized losses of vehicles\")\n",
    "plt.ylabel('Number of vehicles')\n",
    "plt.xlabel('Normalized losses')"
   ]
  },
  {
   "cell_type": "code",
   "execution_count": 159,
   "metadata": {},
   "outputs": [
    {
     "data": {
      "text/plain": [
       "Text(0.5, 0, 'Fuel type')"
      ]
     },
     "execution_count": 159,
     "metadata": {},
     "output_type": "execute_result"
    },
    {
     "data": {
      "image/png": "[encoded data removed]",
      "text/plain": [
       "<Figure size 432x288 with 1 Axes>"
      ]
     },
     "metadata": {
      "needs_background": "light"
     },
     "output_type": "display_data"
    }
   ],
   "source": [
    "# Types of fuels used in cars\n",
    "auto['fuel-type'].value_counts().plot(kind='bar',color='purple')\n",
    "plt.title(\"Fuel type comparison diagram\")\n",
    "plt.ylabel('Number of vehicles')\n",
    "plt.xlabel('Fuel type')"
   ]
  },
  {
   "cell_type": "code",
   "execution_count": 160,
   "metadata": {},
   "outputs": [
    {
     "data": {
      "text/plain": [
       "Text(0.5, 0, 'Aspiration')"
      ]
     },
     "execution_count": 160,
     "metadata": {},
     "output_type": "execute_result"
    },
    {
     "data": {
      "image/png": "[encoded data removed]",
      "text/plain": [
       "<Figure size 432x288 with 1 Axes>"
      ]
     },
     "metadata": {
      "needs_background": "light"
     },
     "output_type": "display_data"
    }
   ],
   "source": [
    "# Types of aspiration engines\n",
    "auto['aspiration'].value_counts().plot(kind='bar',color='green')\n",
    "plt.title(\"Aspiration type comparison diagram\")\n",
    "plt.ylabel('Number of vehicles')\n",
    "plt.xlabel('Aspiration')\n"
   ]
  },
  {
   "cell_type": "code",
   "execution_count": 161,
   "metadata": {},
   "outputs": [
    {
     "data": {
      "text/plain": [
       "Text(0.5, 0, 'Horse power')"
      ]
     },
     "execution_count": 161,
     "metadata": {},
     "output_type": "execute_result"
    },
    {
     "data": {
      "image/png": "[encoded data removed]",
      "text/plain": [
       "<Figure size 432x288 with 1 Axes>"
      ]
     },
     "metadata": {
      "needs_background": "light"
     },
     "output_type": "display_data"
    }
   ],
   "source": [
    "auto.horsepower.hist(bins=5,color='red')\n",
    "plt.title(\"Horse power histogram\")\n",
    "plt.ylabel('Number of vehicles')\n",
    "plt.xlabel('Horse power')"
   ]
  },
  {
   "cell_type": "code",
   "execution_count": 162,
   "metadata": {},
   "outputs": [
    {
     "data": {
      "text/plain": [
       "Text(0.5, 0, 'Number of doors')"
      ]
     },
     "execution_count": 162,
     "metadata": {},
     "output_type": "execute_result"
    },
    {
     "data": {
      "image/png": "[encoded data removed]",
      "text/plain": [
       "<Figure size 432x288 with 1 Axes>"
      ]
     },
     "metadata": {
      "needs_background": "light"
     },
     "output_type": "display_data"
    }
   ],
   "source": [
    "auto['num-of-doors'].value_counts().plot(kind='bar',color='purple')\n",
    "plt.title(\"Number of doors frequency diagram\")\n",
    "plt.ylabel('Number of vehicles')\n",
    "plt.xlabel('Number of doors')"
   ]
  },
  {
   "cell_type": "code",
   "execution_count": 163,
   "metadata": {},
   "outputs": [
    {
     "data": {
      "text/plain": [
       "Text(0.5, 0, 'Curb weight')"
      ]
     },
     "execution_count": 163,
     "metadata": {},
     "output_type": "execute_result"
    },
    {
     "data": {
      "image/png": "[encoded data removed]",
      "text/plain": [
       "<Figure size 432x288 with 1 Axes>"
      ]
     },
     "metadata": {
      "needs_background": "light"
     },
     "output_type": "display_data"
    }
   ],
   "source": [
    "auto['curb-weight'].hist(bins=5,color='brown');\n",
    "plt.title(\"Curb weight histogram\")\n",
    "plt.ylabel('Number of vehicles')\n",
    "plt.xlabel('Curb weight')"
   ]
  },
  {
   "cell_type": "code",
   "execution_count": 164,
   "metadata": {},
   "outputs": [
    {
     "data": {
      "text/plain": [
       "Text(0.5, 0, 'Drive wheels')"
      ]
     },
     "execution_count": 164,
     "metadata": {},
     "output_type": "execute_result"
    },
    {
     "data": {
      "image/png": "[encoded data removed]",
      "text/plain": [
       "<Figure size 432x288 with 1 Axes>"
      ]
     },
     "metadata": {
      "needs_background": "light"
     },
     "output_type": "display_data"
    }
   ],
   "source": [
    "auto['drive-wheels'].value_counts().plot(kind='bar',color='black')\n",
    "plt.title(\"Drive wheels diagram\")\n",
    "plt.ylabel('Number of vehicles')\n",
    "plt.xlabel('Drive wheels')"
   ]
  },
  {
   "cell_type": "markdown",
   "metadata": {},
   "source": [
    "Findings from the univariate analysis\n",
    "\n",
    "1. Toyota is the make of the car which has most number of vehicles\n",
    "2. Most preferred fuel type for the customer is standard vs trubo \n",
    "3. For drive wheels, front wheel drive has most number of cars followed by rear wheel and four wheel\n",
    "4. Curb weight of the cars are distributed between 1500 and 4000 approximately\n",
    "5. Symboling or the insurance risk rating have the ratings between -2 and 3\n",
    "6. Normalized losses which is the average loss payment per insured vehicle year is has more number of cars in the range between 65 and 260\n"
   ]
  },
  {
   "cell_type": "code",
   "execution_count": 165,
   "metadata": {},
   "outputs": [
    {
     "data": {
      "text/plain": [
       "<seaborn.axisgrid.FacetGrid at 0x19ce38417c8>"
      ]
     },
     "execution_count": 165,
     "metadata": {},
     "output_type": "execute_result"
    },
    {
     "data": {
      "image/png": "[encoded data removed]",
      "text/plain": [
       "<Figure size 360x360 with 1 Axes>"
      ]
     },
     "metadata": {
      "needs_background": "light"
     },
     "output_type": "display_data"
    }
   ],
   "source": [
    "#Scatter plot for price and engine size\n",
    "\n",
    "sns.lmplot('price',\"engine-size\", auto)"
   ]
  },
  {
   "cell_type": "code",
   "execution_count": 166,
   "metadata": {},
   "outputs": [
    {
     "data": {
      "text/plain": [
       "<seaborn.axisgrid.FacetGrid at 0x19ce38a4208>"
      ]
     },
     "execution_count": 166,
     "metadata": {},
     "output_type": "execute_result"
    },
    {
     "data": {
      "image/png": "[encoded data removed]",
      "text/plain": [
       "<Figure size 360x360 with 1 Axes>"
      ]
     },
     "metadata": {
      "needs_background": "light"
     },
     "output_type": "display_data"
    }
   ],
   "source": [
    "#Scatter plot of normalized losses and symboling\n",
    "\n",
    "sns.lmplot('normalized-losses',\"symboling\",auto)"
   ]
  },
  {
   "cell_type": "code",
   "execution_count": 167,
   "metadata": {},
   "outputs": [
    {
     "data": {
      "image/png": "[encoded data removed]",
      "text/plain": [
       "<Figure size 472.75x360 with 1 Axes>"
      ]
     },
     "metadata": {
      "needs_background": "light"
     },
     "output_type": "display_data"
    },
    {
     "data": {
      "image/png": "[encoded data removed]",
      "text/plain": [
       "<Figure size 472.75x360 with 1 Axes>"
      ]
     },
     "metadata": {
      "needs_background": "light"
     },
     "output_type": "display_data"
    }
   ],
   "source": [
    "#Scatter plot of City and Highway MPG, Curb weight based on Make of the car\n",
    "sns.lmplot('city-mpg',\"curb-weight\", auto, hue=\"make\", fit_reg=False);\n",
    "sns.lmplot('highway-mpg',\"curb-weight\", auto, hue=\"make\",fit_reg=False);\n"
   ]
  },
  {
   "cell_type": "code",
   "execution_count": 168,
   "metadata": {},
   "outputs": [
    {
     "data": {
      "image/png": "[encoded data removed]",
      "text/plain": [
       "<Figure size 360x360 with 1 Axes>"
      ]
     },
     "metadata": {
      "needs_background": "light"
     },
     "output_type": "display_data"
    }
   ],
   "source": [
    "#Horsepower vs price\n",
    "sns.lmplot('price',\"horsepower\", auto, fit_reg=False);\n"
   ]
  },
  {
   "cell_type": "code",
   "execution_count": 169,
   "metadata": {},
   "outputs": [
    {
     "data": {
      "text/plain": [
       "<matplotlib.axes._subplots.AxesSubplot at 0x19ce3db4988>"
      ]
     },
     "execution_count": 169,
     "metadata": {},
     "output_type": "execute_result"
    },
    {
     "data": {
      "image/png": "[encoded data removed]",
      "text/plain": [
       "<Figure size 432x288 with 1 Axes>"
      ]
     },
     "metadata": {
      "needs_background": "light"
     },
     "output_type": "display_data"
    }
   ],
   "source": [
    "#Drivewheels vs curb-weight\n",
    "sns.boxplot(x=\"drive-wheels\", y=\"curb-weight\",data=auto)\n"
   ]
  },
  {
   "cell_type": "code",
   "execution_count": 170,
   "metadata": {},
   "outputs": [
    {
     "data": {
      "text/plain": [
       "<seaborn.axisgrid.FacetGrid at 0x19ce3e42648>"
      ]
     },
     "execution_count": 170,
     "metadata": {},
     "output_type": "execute_result"
    },
    {
     "data": {
      "image/png": "[encoded data removed]",
      "text/plain": [
       "<Figure size 472.75x360 with 1 Axes>"
      ]
     },
     "metadata": {
      "needs_background": "light"
     },
     "output_type": "display_data"
    }
   ],
   "source": [
    "#Drive-wheels and curb-weight based on manufacturer make\n",
    "sns.lmplot('drive-wheels',\"curb-weight\", auto, hue=\"make\", fit_reg=False)"
   ]
  },
  {
   "cell_type": "code",
   "execution_count": 171,
   "metadata": {
    "scrolled": true
   },
   "outputs": [
    {
     "data": {
      "text/plain": [
       "<matplotlib.axes._subplots.AxesSubplot at 0x19ce4ef0408>"
      ]
     },
     "execution_count": 171,
     "metadata": {},
     "output_type": "execute_result"
    },
    {
     "data": {
      "image/png": "[encoded data removed]",
      "text/plain": [
       "<Figure size 1080x720 with 1 Axes>"
      ]
     },
     "metadata": {
      "needs_background": "light"
     },
     "output_type": "display_data"
    }
   ],
   "source": [
    "#Drive-wheels and curb-weight based on manufacturer make using box plot\n",
    "plt.figure(figsize=(15,10))\n",
    "sns.boxplot(x=\"drive-wheels\", y=\"curb-weight\",data=auto,hue='make')"
   ]
  },
  {
   "cell_type": "raw",
   "metadata": {},
   "source": [
    "Findings from Bi-variate Analysis:\n",
    "1. Bigger the engine size the costlier the price\n",
    "2. lesser the rating is lesser the normalized losses\n",
    "3. Higher the curb-weight, lower the milage (both are inversely proportional)\n",
    "4. More the horsepower, more the price\n",
    "5. Rear wheel drives having more curb weight compared to 4wheel drive\n",
    "6. Frontwheel drive are less in curbweight than other drive types"
   ]
  },
  {
   "cell_type": "code",
   "execution_count": null,
   "metadata": {},
   "outputs": [],
   "source": [
    "\n"
   ]
  }
 ],
 "metadata": {
  "kernelspec": {
   "display_name": "Python 3",
   "language": "python",
   "name": "python3"
  },
  "language_info": {
   "codemirror_mode": {
    "name": "ipython",
    "version": 3
   },
   "file_extension": ".py",
   "mimetype": "text/x-python",
   "name": "python",
   "nbconvert_exporter": "python",
   "pygments_lexer": "ipython3",
   "version": "3.7.4"
  }
 },
 "nbformat": 4,
 "nbformat_minor": 2
}
